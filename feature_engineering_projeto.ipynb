{
  "cells": [
    {
      "cell_type": "markdown",
      "metadata": {
        "id": "view-in-github",
        "colab_type": "text"
      },
      "source": [
        "<a href=\"https://colab.research.google.com/github/jps0/python-fiap/blob/main/feature_engineering_projeto.ipynb\" target=\"_parent\"><img src=\"https://colab.research.google.com/assets/colab-badge.svg\" alt=\"Open In Colab\"/></a>"
      ]
    },
    {
      "cell_type": "markdown",
      "metadata": {
        "id": "GW3B4LN9Qcch"
      },
      "source": [
        "# Exercício da Aula 4\n",
        "\n",
        "O objetivo deste exercício é aplicar técnicas de Feature Engineering e análise de fairness em um cenário de análise de crédito. Os alunos trabalharão com um dataset realista de empréstimos bancários e serão desafiados a realizar as seguintes atividades:\n",
        "\n",
        "- Análise Exploratória de Dados:\n",
        "  - Distribuição das Variáveis Categóricas: Visualização da distribuição das variáveis categóricas, como gênero e status de emprego, usando gráficos de contagem.\n",
        "  - Distribuição das Variáveis Numéricas: Análise das variáveis numéricas, como idade e renda, com histogramas e gráficos de densidade.\n",
        "  - Boxplots: Criação de boxplots para variáveis numéricas para identificar outliers e entender a distribuição dos dados.\n",
        "  - Matriz de Correlação: Visualização da correlação entre variáveis numéricas para entender as relações entre elas.\n",
        "  - Análise da Variável de Destino: Análise da distribuição da variável de destino, que indica o status do empréstimo (Aprovado ou Rejeitado).\n",
        "\n",
        "- Análise de Fairness:\n",
        "  - Fairness por Gênero:\n",
        "    - Distribuição por Gênero: Visualização da distribuição de empréstimos aprovados e rejeitados entre diferentes gêneros usando histogramas.\n",
        "    - Cálculo do Disparate Impact Ratio (DIR) para Gênero: Cálculo da razão entre as taxas de aprovação de empréstimos para gêneros masculino e feminino para identificar possíveis vieses.\n",
        "  - Fairness por Renda:\n",
        "    - Distribuição por Renda: Análise da distribuição de empréstimos aprovados e rejeitados entre grupos de alta e baixa renda usando histogramas.\n",
        "    - Cálculo do Disparate Impact Ratio (DIR) para Renda: Cálculo da razão entre as taxas de aprovação de empréstimos para clientes com renda alta e baixa para verificar possíveis disparidades.\n",
        "\n",
        "- Pré-processamento e Seleção de Features:\n",
        "  - Encoding das Variáveis Categóricas: Aplicação de técnicas de codificação, como Label Encoding, para variáveis categóricas.\n",
        "  - Normalização: Aplicação de normalização nos dados para garantir que todas as variáveis numéricas estejam na mesma escala.\n",
        "  - Seleção de Features: Utilização de métodos como Chi-Square para selecionar as variáveis mais relevantes para o modelo.\n",
        "\n",
        "- Treinamento e Avaliação de Modelos:\n",
        "  - Treinamento de Modelo: Treinamento de um modelo de regressão logística para prever o status de empréstimo com base nas features selecionadas.\n",
        "  - Avaliação do Modelo: Avaliação do modelo usando métricas como acurácia, matriz de confusão e relatório de classificação para verificar o desempenho e a fairness do modelo.\n",
        "\n",
        "- Documentação e Relatório:\n",
        "  - Relatório: Documente todos os passos seguidos, as decisões tomadas e as descobertas realizadas. Inclua gráficos e tabelas relevantes para suportar suas conclusões. Discuta as implicações das análises de fairness e as transformações de features na análise final."
      ]
    },
    {
      "cell_type": "markdown",
      "metadata": {
        "id": "JgKF8r4_Qcck"
      },
      "source": [
        "# Dataset \"Empréstimos Bancários\"\n",
        "\n",
        "Este dataset contém informações detalhadas sobre clientes de um banco, incluindo dados demográficos, financeiros e de status de emprego. As informações fornecidas são ideais para a análise de crédito, perfis de clientes e podem ser utilizadas em diversas técnicas de feature engineering e análise exploratória.\n",
        "\n",
        "- Principais Características do Dataset:\n",
        "    - age: Idade do cliente (em anos).\n",
        "    - gender: Gênero do cliente (Masculino ou Feminino).\n",
        "    - income: Renda anual do cliente (em milhares de dólares).\n",
        "    - education: Nível de escolaridade do cliente (Ensino Médio, Graduação, Mestrado, Doutorado).\n",
        "    - marital_status: Estado civil do cliente (Solteiro, Casado, Divorciado, Viúvo).\n",
        "    - credit_score: Pontuação de crédito do cliente (em uma escala de 300 a 850).\n",
        "    - loan_amount: Valor do empréstimo solicitado (em milhares de dólares).\n",
        "    - employment_status: Situação de emprego do cliente (Empregado, Desempregado, Autônomo, Aposentado).\n",
        "    - dependents: Número de dependentes do cliente.\n",
        "    - home_ownership: Situação de posse da casa (Própria, Alugada, Hipotecada).\n",
        "    - loan_purpose: Propósito do empréstimo (Casa, Carro, Educação, Negócios, Pessoal).\n",
        "    - loan_status: Status do empréstimo (Aprovado ou Rejeitado).\n",
        "\n",
        "- Importância das Variáveis:\n",
        "    - age: A idade pode influenciar a capacidade de pagamento e o perfil de risco do cliente. Clientes mais jovens podem ter menos histórico de crédito, enquanto clientes mais velhos podem ter maior estabilidade financeira.\n",
        "    - gender: O gênero pode ser analisado para investigar potenciais vieses na concessão de crédito.\n",
        "    - income: A renda anual é um fator determinante na análise de crédito, pois influencia diretamente a capacidade de pagamento do cliente.\n",
        "    - education: O nível de escolaridade pode estar relacionado ao perfil financeiro e ao potencial de ganho do cliente, influenciando assim a análise de risco.\n",
        "    - marital_status: O estado civil pode afetar a estabilidade financeira e a necessidade de empréstimos. Por exemplo, casais casados podem ter renda conjunta.\n",
        "    - credit_score: A pontuação de crédito é uma métrica essencial para determinar o risco de inadimplência de um cliente.\n",
        "    - loan_amount: O valor do empréstimo solicitado é crucial para avaliar o risco associado ao cliente e a viabilidade de pagamento.\n",
        "    - employment_status: A situação de emprego pode impactar diretamente a estabilidade financeira do cliente e sua capacidade de honrar o empréstimo.\n",
        "    - dependents: O número de dependentes pode influenciar a capacidade financeira do cliente, já que mais dependentes podem significar maiores despesas.\n",
        "    - home_ownership: A posse de uma casa pode ser um indicador de estabilidade financeira e segurança no pagamento de empréstimos.\n",
        "    - loan_purpose: O propósito do empréstimo ajuda a entender a necessidade do cliente e pode influenciar a decisão de aprovação.\n",
        "    - loan_status: O status do empréstimo, se aprovado ou rejeitado, é a variável de destino que pode ser utilizada em modelos de classificação para prever a concessão de futuros empréstimos."
      ]
    },
    {
      "cell_type": "markdown",
      "metadata": {
        "id": "_5jEY39IQcck"
      },
      "source": [
        "# 1 Importação das Bibliotecas Necessárias"
      ]
    },
    {
      "cell_type": "code",
      "execution_count": null,
      "metadata": {
        "id": "Na5tz8aqQccl"
      },
      "outputs": [],
      "source": [
        "import pandas as pd\n",
        "import numpy as np\n",
        "import seaborn as sns\n",
        "import matplotlib.pyplot as plt\n",
        "from sklearn.preprocessing import LabelEncoder, StandardScaler\n",
        "from sklearn.model_selection import train_test_split\n",
        "from sklearn.linear_model import LogisticRegression\n",
        "from sklearn.metrics import classification_report, confusion_matrix, accuracy_score\n",
        "from sklearn.feature_selection import SelectKBest, chi2"
      ]
    },
    {
      "cell_type": "markdown",
      "metadata": {
        "id": "gf9vwP3MQccm"
      },
      "source": [
        "# 2 Carregar o dataset"
      ]
    },
    {
      "cell_type": "code",
      "execution_count": null,
      "metadata": {
        "id": "7K9rANkOQccm",
        "outputId": "d499f273-396f-4737-80b0-1f779de6c169"
      },
      "outputs": [
        {
          "data": {
            "text/html": [
              "<div>\n",
              "<style scoped>\n",
              "    .dataframe tbody tr th:only-of-type {\n",
              "        vertical-align: middle;\n",
              "    }\n",
              "\n",
              "    .dataframe tbody tr th {\n",
              "        vertical-align: top;\n",
              "    }\n",
              "\n",
              "    .dataframe thead th {\n",
              "        text-align: right;\n",
              "    }\n",
              "</style>\n",
              "<table border=\"1\" class=\"dataframe\">\n",
              "  <thead>\n",
              "    <tr style=\"text-align: right;\">\n",
              "      <th></th>\n",
              "      <th>age</th>\n",
              "      <th>gender</th>\n",
              "      <th>income</th>\n",
              "      <th>education</th>\n",
              "      <th>marital_status</th>\n",
              "      <th>credit_score</th>\n",
              "      <th>loan_amount</th>\n",
              "      <th>employment_status</th>\n",
              "      <th>dependents</th>\n",
              "      <th>home_ownership</th>\n",
              "      <th>loan_purpose</th>\n",
              "      <th>loan_status</th>\n",
              "    </tr>\n",
              "  </thead>\n",
              "  <tbody>\n",
              "    <tr>\n",
              "      <th>0</th>\n",
              "      <td>56</td>\n",
              "      <td>Male</td>\n",
              "      <td>22</td>\n",
              "      <td>PhD</td>\n",
              "      <td>Divorced</td>\n",
              "      <td>722</td>\n",
              "      <td>33</td>\n",
              "      <td>Self-Employed</td>\n",
              "      <td>5</td>\n",
              "      <td>Mortgage</td>\n",
              "      <td>Home</td>\n",
              "      <td>Approved</td>\n",
              "    </tr>\n",
              "    <tr>\n",
              "      <th>1</th>\n",
              "      <td>69</td>\n",
              "      <td>Female</td>\n",
              "      <td>38</td>\n",
              "      <td>Bachelor</td>\n",
              "      <td>Divorced</td>\n",
              "      <td>798</td>\n",
              "      <td>10</td>\n",
              "      <td>Unemployed</td>\n",
              "      <td>0</td>\n",
              "      <td>Mortgage</td>\n",
              "      <td>Home</td>\n",
              "      <td>Approved</td>\n",
              "    </tr>\n",
              "    <tr>\n",
              "      <th>2</th>\n",
              "      <td>46</td>\n",
              "      <td>Male</td>\n",
              "      <td>42</td>\n",
              "      <td>PhD</td>\n",
              "      <td>Single</td>\n",
              "      <td>590</td>\n",
              "      <td>22</td>\n",
              "      <td>Employed</td>\n",
              "      <td>1</td>\n",
              "      <td>Own</td>\n",
              "      <td>Education</td>\n",
              "      <td>Rejected</td>\n",
              "    </tr>\n",
              "    <tr>\n",
              "      <th>3</th>\n",
              "      <td>32</td>\n",
              "      <td>Female</td>\n",
              "      <td>123</td>\n",
              "      <td>PhD</td>\n",
              "      <td>Single</td>\n",
              "      <td>468</td>\n",
              "      <td>19</td>\n",
              "      <td>Unemployed</td>\n",
              "      <td>4</td>\n",
              "      <td>Mortgage</td>\n",
              "      <td>Business</td>\n",
              "      <td>Rejected</td>\n",
              "    </tr>\n",
              "    <tr>\n",
              "      <th>4</th>\n",
              "      <td>60</td>\n",
              "      <td>Male</td>\n",
              "      <td>124</td>\n",
              "      <td>PhD</td>\n",
              "      <td>Single</td>\n",
              "      <td>761</td>\n",
              "      <td>29</td>\n",
              "      <td>Unemployed</td>\n",
              "      <td>2</td>\n",
              "      <td>Mortgage</td>\n",
              "      <td>Personal</td>\n",
              "      <td>Rejected</td>\n",
              "    </tr>\n",
              "  </tbody>\n",
              "</table>\n",
              "</div>"
            ],
            "text/plain": [
              "   age  gender  income education marital_status  credit_score  loan_amount  \\\n",
              "0   56    Male      22       PhD       Divorced           722           33   \n",
              "1   69  Female      38  Bachelor       Divorced           798           10   \n",
              "2   46    Male      42       PhD         Single           590           22   \n",
              "3   32  Female     123       PhD         Single           468           19   \n",
              "4   60    Male     124       PhD         Single           761           29   \n",
              "\n",
              "  employment_status  dependents home_ownership loan_purpose loan_status  \n",
              "0     Self-Employed           5       Mortgage         Home    Approved  \n",
              "1        Unemployed           0       Mortgage         Home    Approved  \n",
              "2          Employed           1            Own    Education    Rejected  \n",
              "3        Unemployed           4       Mortgage     Business    Rejected  \n",
              "4        Unemployed           2       Mortgage     Personal    Rejected  "
            ]
          },
          "execution_count": 2,
          "metadata": {},
          "output_type": "execute_result"
        }
      ],
      "source": [
        "df = pd.read_csv('datasets/bank-loan-data.csv')\n",
        "df.head()"
      ]
    },
    {
      "cell_type": "markdown",
      "metadata": {
        "id": "xlbGsQ7fQccn"
      },
      "source": [
        "## 2.1 Exploração Inicial dos Dados"
      ]
    },
    {
      "cell_type": "code",
      "execution_count": null,
      "metadata": {
        "id": "oq1RXHCBQcco",
        "outputId": "8d1fb0ff-571a-419e-b722-825642e7b6ff"
      },
      "outputs": [
        {
          "name": "stdout",
          "output_type": "stream",
          "text": [
            "<class 'pandas.core.frame.DataFrame'>\n",
            "RangeIndex: 10000 entries, 0 to 9999\n",
            "Data columns (total 12 columns):\n",
            " #   Column             Non-Null Count  Dtype \n",
            "---  ------             --------------  ----- \n",
            " 0   age                10000 non-null  int64 \n",
            " 1   gender             10000 non-null  object\n",
            " 2   income             10000 non-null  int64 \n",
            " 3   education          10000 non-null  object\n",
            " 4   marital_status     10000 non-null  object\n",
            " 5   credit_score       10000 non-null  int64 \n",
            " 6   loan_amount        10000 non-null  int64 \n",
            " 7   employment_status  10000 non-null  object\n",
            " 8   dependents         10000 non-null  int64 \n",
            " 9   home_ownership     10000 non-null  object\n",
            " 10  loan_purpose       10000 non-null  object\n",
            " 11  loan_status        10000 non-null  object\n",
            "dtypes: int64(5), object(7)\n",
            "memory usage: 937.6+ KB\n"
          ]
        }
      ],
      "source": [
        "df.info()"
      ]
    },
    {
      "cell_type": "code",
      "execution_count": null,
      "metadata": {
        "id": "rnNVzNVoQcco",
        "outputId": "cc28a24c-3508-4284-cd95-e9fdf06120b0"
      },
      "outputs": [
        {
          "data": {
            "text/html": [
              "<div>\n",
              "<style scoped>\n",
              "    .dataframe tbody tr th:only-of-type {\n",
              "        vertical-align: middle;\n",
              "    }\n",
              "\n",
              "    .dataframe tbody tr th {\n",
              "        vertical-align: top;\n",
              "    }\n",
              "\n",
              "    .dataframe thead th {\n",
              "        text-align: right;\n",
              "    }\n",
              "</style>\n",
              "<table border=\"1\" class=\"dataframe\">\n",
              "  <thead>\n",
              "    <tr style=\"text-align: right;\">\n",
              "      <th></th>\n",
              "      <th>age</th>\n",
              "      <th>income</th>\n",
              "      <th>credit_score</th>\n",
              "      <th>loan_amount</th>\n",
              "      <th>dependents</th>\n",
              "    </tr>\n",
              "  </thead>\n",
              "  <tbody>\n",
              "    <tr>\n",
              "      <th>count</th>\n",
              "      <td>10000.000000</td>\n",
              "      <td>10000.000000</td>\n",
              "      <td>10000.000000</td>\n",
              "      <td>10000.000000</td>\n",
              "      <td>10000.000000</td>\n",
              "    </tr>\n",
              "    <tr>\n",
              "      <th>mean</th>\n",
              "      <td>44.021700</td>\n",
              "      <td>84.705500</td>\n",
              "      <td>576.923000</td>\n",
              "      <td>25.407200</td>\n",
              "      <td>2.486900</td>\n",
              "    </tr>\n",
              "    <tr>\n",
              "      <th>std</th>\n",
              "      <td>15.203998</td>\n",
              "      <td>37.650765</td>\n",
              "      <td>158.514086</td>\n",
              "      <td>14.440832</td>\n",
              "      <td>1.711643</td>\n",
              "    </tr>\n",
              "    <tr>\n",
              "      <th>min</th>\n",
              "      <td>18.000000</td>\n",
              "      <td>20.000000</td>\n",
              "      <td>300.000000</td>\n",
              "      <td>1.000000</td>\n",
              "      <td>0.000000</td>\n",
              "    </tr>\n",
              "    <tr>\n",
              "      <th>25%</th>\n",
              "      <td>31.000000</td>\n",
              "      <td>52.000000</td>\n",
              "      <td>440.000000</td>\n",
              "      <td>13.000000</td>\n",
              "      <td>1.000000</td>\n",
              "    </tr>\n",
              "    <tr>\n",
              "      <th>50%</th>\n",
              "      <td>44.000000</td>\n",
              "      <td>85.000000</td>\n",
              "      <td>577.000000</td>\n",
              "      <td>25.000000</td>\n",
              "      <td>2.000000</td>\n",
              "    </tr>\n",
              "    <tr>\n",
              "      <th>75%</th>\n",
              "      <td>57.000000</td>\n",
              "      <td>117.000000</td>\n",
              "      <td>714.000000</td>\n",
              "      <td>38.000000</td>\n",
              "      <td>4.000000</td>\n",
              "    </tr>\n",
              "    <tr>\n",
              "      <th>max</th>\n",
              "      <td>70.000000</td>\n",
              "      <td>150.000000</td>\n",
              "      <td>850.000000</td>\n",
              "      <td>50.000000</td>\n",
              "      <td>5.000000</td>\n",
              "    </tr>\n",
              "  </tbody>\n",
              "</table>\n",
              "</div>"
            ],
            "text/plain": [
              "                age        income  credit_score   loan_amount    dependents\n",
              "count  10000.000000  10000.000000  10000.000000  10000.000000  10000.000000\n",
              "mean      44.021700     84.705500    576.923000     25.407200      2.486900\n",
              "std       15.203998     37.650765    158.514086     14.440832      1.711643\n",
              "min       18.000000     20.000000    300.000000      1.000000      0.000000\n",
              "25%       31.000000     52.000000    440.000000     13.000000      1.000000\n",
              "50%       44.000000     85.000000    577.000000     25.000000      2.000000\n",
              "75%       57.000000    117.000000    714.000000     38.000000      4.000000\n",
              "max       70.000000    150.000000    850.000000     50.000000      5.000000"
            ]
          },
          "execution_count": 4,
          "metadata": {},
          "output_type": "execute_result"
        }
      ],
      "source": [
        "df.describe()"
      ]
    },
    {
      "cell_type": "markdown",
      "metadata": {
        "id": "LPkjQ0mJQcco"
      },
      "source": [
        "# 3 Análise de Fairness (Viés)"
      ]
    },
    {
      "cell_type": "markdown",
      "metadata": {
        "id": "xcA2g8dhQcco"
      },
      "source": [
        "## 3.1 Distribuição por Gênero"
      ]
    },
    {
      "cell_type": "code",
      "execution_count": null,
      "metadata": {
        "id": "UQVxxX1QQcco",
        "outputId": "5bfa3692-5a29-4393-bb35-d39a11686b0c"
      },
      "outputs": [
        {
          "data": {
            "image/png": "[encoded data removed]",
            "text/plain": [
              "<Figure size 640x480 with 1 Axes>"
            ]
          },
          "metadata": {},
          "output_type": "display_data"
        }
      ],
      "source": [
        "sns.countplot(x='gender', hue='loan_status', data=df)\n",
        "plt.title('Distribuição de Aprovação de Empréstimo por Gênero')\n",
        "plt.show()"
      ]
    },
    {
      "cell_type": "markdown",
      "metadata": {
        "id": "7Mn_sqDkQccp"
      },
      "source": [
        "### 3.1.1\n",
        "\n",
        "Disparate Impact Ratio (DIR): A DIR compara as taxas de aprovação entre dois grupos. Um DIR próximo de 1 indica que não há discriminação entre os grupos. Um valor menor que 0.8 pode indicar um potencial viés.\n",
        "\n",
        "DIR_gender: A razão entre a taxa de aprovação das mulheres e a taxa de aprovação dos homens."
      ]
    },
    {
      "cell_type": "code",
      "execution_count": null,
      "metadata": {
        "id": "xoQ0VmSGQccp",
        "outputId": "ca58adde-ee30-4e03-de33-78f066a3a757"
      },
      "outputs": [
        {
          "name": "stdout",
          "output_type": "stream",
          "text": [
            "Disparate Impact Ratio (DIR) para Gênero: 0.47\n"
          ]
        }
      ],
      "source": [
        "# Considerando que a DIR é a razão entre as taxas de aprovação de dois grupos: Masculino e Feminino.\n",
        "male_approved = df[(df['gender'] == 'Male') & (df['loan_status'] == 'Approved')].shape[0]\n",
        "male_total = df[df['gender'] == 'Male'].shape[0]\n",
        "male_rate = male_approved / male_total\n",
        "\n",
        "female_approved = df[(df['gender'] == 'Female') & (df['loan_status'] == 'Approved')].shape[0]\n",
        "female_total = df[df['gender'] == 'Female'].shape[0]\n",
        "female_rate = female_approved / female_total\n",
        "\n",
        "DIR_gender = female_rate / male_rate\n",
        "print(f'Disparate Impact Ratio (DIR) para Gênero: {DIR_gender:.2f}')"
      ]
    },
    {
      "cell_type": "markdown",
      "metadata": {
        "id": "j8TDUtYfQccp"
      },
      "source": [
        "## 3.2 Distribuição por Idade"
      ]
    },
    {
      "cell_type": "code",
      "execution_count": null,
      "metadata": {
        "id": "aaQCUDYQQccp",
        "outputId": "4ada3d1b-b473-452d-fe47-34cd4bfeaafa"
      },
      "outputs": [
        {
          "data": {
            "image/png": "[encoded data removed]",
            "text/plain": [
              "<Figure size 640x480 with 1 Axes>"
            ]
          },
          "metadata": {},
          "output_type": "display_data"
        }
      ],
      "source": [
        "sns.histplot(df[df['loan_status'] == 'Approved']['age'], color='red', kde=True, label='Approved')\n",
        "sns.histplot(df[df['loan_status'] == 'Rejected']['age'], color='black', kde=True, label='Rejected')\n",
        "plt.title('Distribuição de Idade por Status do Empréstimo')\n",
        "plt.legend()\n",
        "plt.show()"
      ]
    },
    {
      "cell_type": "markdown",
      "metadata": {
        "id": "Pd4va1a6Qccp"
      },
      "source": [
        "### 3.2.1 Cálculo da Métrica de Fairness - Disparate Impact Ratio (DIR)\n",
        "\n",
        "No exemplo, estamos comparando jovens (<35 anos) e pessoas mais velhas (>=35 anos) para ver se há diferença significativa na taxa de aprovação de empréstimos entre esses grupos."
      ]
    },
    {
      "cell_type": "code",
      "execution_count": null,
      "metadata": {
        "id": "KNCZmROQQccq",
        "outputId": "7ac0d3b0-a3bb-42a1-9a0d-66f0bba50258"
      },
      "outputs": [
        {
          "name": "stdout",
          "output_type": "stream",
          "text": [
            "Disparate Impact Ratio (DIR) para Idade: 1.01\n"
          ]
        }
      ],
      "source": [
        "# Considerando que a DIR é a razão entre as taxas de aprovação de dois grupos. Vamos comparar jovens (< 35 anos) e mais velhos (>= 35 anos).\n",
        "young_approved = df[(df['age'] < 35) & (df['loan_status'] == 'Approved')].shape[0]\n",
        "young_total = df[df['age'] < 35].shape[0]\n",
        "young_rate = young_approved / young_total\n",
        "\n",
        "old_approved = df[(df['age'] >= 35) & (df['loan_status'] == 'Approved')].shape[0]\n",
        "old_total = df[df['age'] >= 35].shape[0]\n",
        "old_rate = old_approved / old_total\n",
        "\n",
        "DIR = young_rate / old_rate\n",
        "print(f'Disparate Impact Ratio (DIR) para Idade: {DIR:.2f}')"
      ]
    },
    {
      "cell_type": "markdown",
      "metadata": {
        "id": "j5N6N2-YQccq"
      },
      "source": [
        "## 3.3 Distribuição por Renda Anual"
      ]
    },
    {
      "cell_type": "code",
      "execution_count": null,
      "metadata": {
        "id": "x0VTzny3Qccq",
        "outputId": "59448eb5-b249-4d27-b9b4-3a18cffc8880"
      },
      "outputs": [
        {
          "data": {
            "image/png": "[encoded data removed]",
            "text/plain": [
              "<Figure size 640x480 with 1 Axes>"
            ]
          },
          "metadata": {},
          "output_type": "display_data"
        }
      ],
      "source": [
        "sns.histplot(df[df['loan_status'] == 'Approved']['income'], color='red', kde=True, label='Approved')\n",
        "sns.histplot(df[df['loan_status'] == 'Rejected']['income'], color='black', kde=True, label='Rejected')\n",
        "plt.title('Distribuição de Renda Anual por Status do Empréstimo')\n",
        "plt.legend()\n",
        "plt.show()"
      ]
    },
    {
      "cell_type": "code",
      "execution_count": null,
      "metadata": {
        "id": "4D72UHsVQccr",
        "outputId": "d937b7ba-fca8-4d8b-caea-8ab8d5e787ae"
      },
      "outputs": [
        {
          "data": {
            "image/png": "[encoded data removed]",
            "text/plain": [
              "<Figure size 640x480 with 1 Axes>"
            ]
          },
          "metadata": {},
          "output_type": "display_data"
        }
      ],
      "source": [
        "# Ajustando a quantidade de bins para o histograma\n",
        "bins = 5  # Você pode mudar esse valor para o número de bins que preferir\n",
        "\n",
        "sns.histplot(df[df['loan_status'] == 'Approved']['income'], bins=bins, color='red', kde=True, label='Approved')\n",
        "sns.histplot(df[df['loan_status'] == 'Rejected']['income'], bins=bins, color='black', kde=True, label='Rejected')\n",
        "plt.title('Distribuição de Renda Anual por Status do Empréstimo')\n",
        "plt.legend()\n",
        "plt.show()"
      ]
    },
    {
      "cell_type": "markdown",
      "metadata": {
        "id": "IJMlnrQRQccr"
      },
      "source": [
        "## 3.3.1 Cálculo da Métrica de Fairness - Disparate Impact Ratio (DIR) para Renda"
      ]
    },
    {
      "cell_type": "code",
      "execution_count": null,
      "metadata": {
        "id": "-T41d7uMQccr",
        "outputId": "2b6d8d20-5436-40e0-873e-87b86d23818d"
      },
      "outputs": [
        {
          "name": "stdout",
          "output_type": "stream",
          "text": [
            "Disparate Impact Ratio (DIR) para Renda: 0.88\n"
          ]
        }
      ],
      "source": [
        "# Definindo a mediana da renda como ponto de corte entre 'Alta' e 'Baixa'\n",
        "income_median = df['income'].median()\n",
        "\n",
        "# Separando os grupos de renda alta e baixa\n",
        "high_income_approved = df[(df['income'] >= income_median) & (df['loan_status'] == 'Approved')].shape[0]\n",
        "high_income_total = df[df['income'] >= income_median].shape[0]\n",
        "high_income_rate = high_income_approved / high_income_total\n",
        "\n",
        "low_income_approved = df[(df['income'] < income_median) & (df['loan_status'] == 'Approved')].shape[0]\n",
        "low_income_total = df[df['income'] < income_median].shape[0]\n",
        "low_income_rate = low_income_approved / low_income_total\n",
        "\n",
        "# Calculando o DIR para renda\n",
        "DIR_income = low_income_rate / high_income_rate\n",
        "print(f'Disparate Impact Ratio (DIR) para Renda: {DIR_income:.2f}')"
      ]
    },
    {
      "cell_type": "markdown",
      "metadata": {
        "id": "7zWT9QG1Qccs"
      },
      "source": [
        "# 4 Pré-processamento dos Dados"
      ]
    },
    {
      "cell_type": "markdown",
      "metadata": {
        "id": "LdfRtqgfQccs"
      },
      "source": [
        "## 4.1 Tratamento de Variáveis Categóricas com Label Encoding"
      ]
    },
    {
      "cell_type": "code",
      "execution_count": null,
      "metadata": {
        "id": "r84GfFkqQccs"
      },
      "outputs": [],
      "source": [
        "# Copiando dataset\n",
        "df_encoded = df.copy()\n",
        "\n",
        "# Enconding variáveis categóricas\n",
        "categorical_columns = ['gender', 'education', 'marital_status', 'employment_status', 'home_ownership', 'loan_purpose', 'loan_status']\n",
        "le = LabelEncoder()\n",
        "for col in categorical_columns:\n",
        "    df_encoded[col] = le.fit_transform(df_encoded[col])"
      ]
    },
    {
      "cell_type": "code",
      "execution_count": null,
      "metadata": {
        "id": "2X2YsfauQcct",
        "outputId": "1def7f6d-c7e3-4815-8eb5-f686962235cf"
      },
      "outputs": [
        {
          "data": {
            "text/html": [
              "<div>\n",
              "<style scoped>\n",
              "    .dataframe tbody tr th:only-of-type {\n",
              "        vertical-align: middle;\n",
              "    }\n",
              "\n",
              "    .dataframe tbody tr th {\n",
              "        vertical-align: top;\n",
              "    }\n",
              "\n",
              "    .dataframe thead th {\n",
              "        text-align: right;\n",
              "    }\n",
              "</style>\n",
              "<table border=\"1\" class=\"dataframe\">\n",
              "  <thead>\n",
              "    <tr style=\"text-align: right;\">\n",
              "      <th></th>\n",
              "      <th>age</th>\n",
              "      <th>gender</th>\n",
              "      <th>income</th>\n",
              "      <th>education</th>\n",
              "      <th>marital_status</th>\n",
              "      <th>credit_score</th>\n",
              "      <th>loan_amount</th>\n",
              "      <th>employment_status</th>\n",
              "      <th>dependents</th>\n",
              "      <th>home_ownership</th>\n",
              "      <th>loan_purpose</th>\n",
              "      <th>loan_status</th>\n",
              "    </tr>\n",
              "  </thead>\n",
              "  <tbody>\n",
              "    <tr>\n",
              "      <th>0</th>\n",
              "      <td>56</td>\n",
              "      <td>1</td>\n",
              "      <td>22</td>\n",
              "      <td>3</td>\n",
              "      <td>0</td>\n",
              "      <td>722</td>\n",
              "      <td>33</td>\n",
              "      <td>2</td>\n",
              "      <td>5</td>\n",
              "      <td>0</td>\n",
              "      <td>3</td>\n",
              "      <td>0</td>\n",
              "    </tr>\n",
              "    <tr>\n",
              "      <th>1</th>\n",
              "      <td>69</td>\n",
              "      <td>0</td>\n",
              "      <td>38</td>\n",
              "      <td>0</td>\n",
              "      <td>0</td>\n",
              "      <td>798</td>\n",
              "      <td>10</td>\n",
              "      <td>3</td>\n",
              "      <td>0</td>\n",
              "      <td>0</td>\n",
              "      <td>3</td>\n",
              "      <td>0</td>\n",
              "    </tr>\n",
              "    <tr>\n",
              "      <th>2</th>\n",
              "      <td>46</td>\n",
              "      <td>1</td>\n",
              "      <td>42</td>\n",
              "      <td>3</td>\n",
              "      <td>2</td>\n",
              "      <td>590</td>\n",
              "      <td>22</td>\n",
              "      <td>0</td>\n",
              "      <td>1</td>\n",
              "      <td>1</td>\n",
              "      <td>2</td>\n",
              "      <td>1</td>\n",
              "    </tr>\n",
              "    <tr>\n",
              "      <th>3</th>\n",
              "      <td>32</td>\n",
              "      <td>0</td>\n",
              "      <td>123</td>\n",
              "      <td>3</td>\n",
              "      <td>2</td>\n",
              "      <td>468</td>\n",
              "      <td>19</td>\n",
              "      <td>3</td>\n",
              "      <td>4</td>\n",
              "      <td>0</td>\n",
              "      <td>0</td>\n",
              "      <td>1</td>\n",
              "    </tr>\n",
              "    <tr>\n",
              "      <th>4</th>\n",
              "      <td>60</td>\n",
              "      <td>1</td>\n",
              "      <td>124</td>\n",
              "      <td>3</td>\n",
              "      <td>2</td>\n",
              "      <td>761</td>\n",
              "      <td>29</td>\n",
              "      <td>3</td>\n",
              "      <td>2</td>\n",
              "      <td>0</td>\n",
              "      <td>4</td>\n",
              "      <td>1</td>\n",
              "    </tr>\n",
              "  </tbody>\n",
              "</table>\n",
              "</div>"
            ],
            "text/plain": [
              "   age  gender  income  education  marital_status  credit_score  loan_amount  \\\n",
              "0   56       1      22          3               0           722           33   \n",
              "1   69       0      38          0               0           798           10   \n",
              "2   46       1      42          3               2           590           22   \n",
              "3   32       0     123          3               2           468           19   \n",
              "4   60       1     124          3               2           761           29   \n",
              "\n",
              "   employment_status  dependents  home_ownership  loan_purpose  loan_status  \n",
              "0                  2           5               0             3            0  \n",
              "1                  3           0               0             3            0  \n",
              "2                  0           1               1             2            1  \n",
              "3                  3           4               0             0            1  \n",
              "4                  3           2               0             4            1  "
            ]
          },
          "execution_count": 13,
          "metadata": {},
          "output_type": "execute_result"
        }
      ],
      "source": [
        "df_encoded.head()"
      ]
    },
    {
      "cell_type": "markdown",
      "metadata": {
        "id": "q-Pyys3XQcct"
      },
      "source": [
        "## 4.2 Separação das Variáveis Independentes e Dependentes"
      ]
    },
    {
      "cell_type": "code",
      "execution_count": null,
      "metadata": {
        "id": "O-Bz-GkSQcct"
      },
      "outputs": [],
      "source": [
        "X = df_encoded.drop('loan_status', axis=1)\n",
        "y = df_encoded['loan_status']"
      ]
    },
    {
      "cell_type": "markdown",
      "metadata": {
        "id": "RuwgbPkOQcct"
      },
      "source": [
        "## 4.3 Padronização das Variáveis Numéricas"
      ]
    },
    {
      "cell_type": "code",
      "execution_count": null,
      "metadata": {
        "id": "BupWu5oUQccu"
      },
      "outputs": [],
      "source": [
        "# Copiando dataset\n",
        "X_scaled = X.copy()\n",
        "scaler = StandardScaler()\n",
        "X_scaled[['age', 'income', 'credit_score', 'loan_amount', 'dependents']] = scaler.fit_transform(X_scaled[['age', 'income', 'credit_score', 'loan_amount', 'dependents']])"
      ]
    },
    {
      "cell_type": "code",
      "execution_count": null,
      "metadata": {
        "id": "R0DXeCNvQccu",
        "outputId": "2aa4e3ca-938c-4941-a9eb-acfd519af144"
      },
      "outputs": [
        {
          "data": {
            "text/html": [
              "<div>\n",
              "<style scoped>\n",
              "    .dataframe tbody tr th:only-of-type {\n",
              "        vertical-align: middle;\n",
              "    }\n",
              "\n",
              "    .dataframe tbody tr th {\n",
              "        vertical-align: top;\n",
              "    }\n",
              "\n",
              "    .dataframe thead th {\n",
              "        text-align: right;\n",
              "    }\n",
              "</style>\n",
              "<table border=\"1\" class=\"dataframe\">\n",
              "  <thead>\n",
              "    <tr style=\"text-align: right;\">\n",
              "      <th></th>\n",
              "      <th>age</th>\n",
              "      <th>gender</th>\n",
              "      <th>income</th>\n",
              "      <th>education</th>\n",
              "      <th>marital_status</th>\n",
              "      <th>credit_score</th>\n",
              "      <th>loan_amount</th>\n",
              "      <th>employment_status</th>\n",
              "      <th>dependents</th>\n",
              "      <th>home_ownership</th>\n",
              "      <th>loan_purpose</th>\n",
              "    </tr>\n",
              "  </thead>\n",
              "  <tbody>\n",
              "    <tr>\n",
              "      <th>0</th>\n",
              "      <td>0.787878</td>\n",
              "      <td>1</td>\n",
              "      <td>-1.665534</td>\n",
              "      <td>3</td>\n",
              "      <td>0</td>\n",
              "      <td>0.915277</td>\n",
              "      <td>0.525813</td>\n",
              "      <td>2</td>\n",
              "      <td>1.468312</td>\n",
              "      <td>0</td>\n",
              "      <td>3</td>\n",
              "    </tr>\n",
              "    <tr>\n",
              "      <th>1</th>\n",
              "      <td>1.642959</td>\n",
              "      <td>0</td>\n",
              "      <td>-1.240555</td>\n",
              "      <td>0</td>\n",
              "      <td>0</td>\n",
              "      <td>1.394753</td>\n",
              "      <td>-1.066972</td>\n",
              "      <td>3</td>\n",
              "      <td>-1.453004</td>\n",
              "      <td>0</td>\n",
              "      <td>3</td>\n",
              "    </tr>\n",
              "    <tr>\n",
              "      <th>2</th>\n",
              "      <td>0.130124</td>\n",
              "      <td>1</td>\n",
              "      <td>-1.134310</td>\n",
              "      <td>3</td>\n",
              "      <td>2</td>\n",
              "      <td>0.082502</td>\n",
              "      <td>-0.235954</td>\n",
              "      <td>0</td>\n",
              "      <td>-0.868741</td>\n",
              "      <td>1</td>\n",
              "      <td>2</td>\n",
              "    </tr>\n",
              "    <tr>\n",
              "      <th>3</th>\n",
              "      <td>-0.790733</td>\n",
              "      <td>0</td>\n",
              "      <td>1.017148</td>\n",
              "      <td>3</td>\n",
              "      <td>2</td>\n",
              "      <td>-0.687185</td>\n",
              "      <td>-0.443709</td>\n",
              "      <td>3</td>\n",
              "      <td>0.884049</td>\n",
              "      <td>0</td>\n",
              "      <td>0</td>\n",
              "    </tr>\n",
              "    <tr>\n",
              "      <th>4</th>\n",
              "      <td>1.050980</td>\n",
              "      <td>1</td>\n",
              "      <td>1.043710</td>\n",
              "      <td>3</td>\n",
              "      <td>2</td>\n",
              "      <td>1.161324</td>\n",
              "      <td>0.248807</td>\n",
              "      <td>3</td>\n",
              "      <td>-0.284478</td>\n",
              "      <td>0</td>\n",
              "      <td>4</td>\n",
              "    </tr>\n",
              "  </tbody>\n",
              "</table>\n",
              "</div>"
            ],
            "text/plain": [
              "        age  gender    income  education  marital_status  credit_score  \\\n",
              "0  0.787878       1 -1.665534          3               0      0.915277   \n",
              "1  1.642959       0 -1.240555          0               0      1.394753   \n",
              "2  0.130124       1 -1.134310          3               2      0.082502   \n",
              "3 -0.790733       0  1.017148          3               2     -0.687185   \n",
              "4  1.050980       1  1.043710          3               2      1.161324   \n",
              "\n",
              "   loan_amount  employment_status  dependents  home_ownership  loan_purpose  \n",
              "0     0.525813                  2    1.468312               0             3  \n",
              "1    -1.066972                  3   -1.453004               0             3  \n",
              "2    -0.235954                  0   -0.868741               1             2  \n",
              "3    -0.443709                  3    0.884049               0             0  \n",
              "4     0.248807                  3   -0.284478               0             4  "
            ]
          },
          "execution_count": 16,
          "metadata": {},
          "output_type": "execute_result"
        }
      ],
      "source": [
        "X_scaled.head()"
      ]
    },
    {
      "cell_type": "markdown",
      "metadata": {
        "id": "QkpiLCagQccu"
      },
      "source": [
        "# 5 Seleção de Features"
      ]
    },
    {
      "cell_type": "markdown",
      "metadata": {
        "id": "mPZbg_ZOQccu"
      },
      "source": [
        "## 5.1 Seleção usando Chi-Square"
      ]
    },
    {
      "cell_type": "code",
      "execution_count": null,
      "metadata": {
        "id": "XyXB7hoLQccu",
        "outputId": "f07ea90f-94f2-4a66-f089-98203e5801dd"
      },
      "outputs": [
        {
          "name": "stdout",
          "output_type": "stream",
          "text": [
            "Selected Features:  Index(['gender', 'income', 'marital_status', 'credit_score', 'loan_amount'], dtype='object')\n"
          ]
        }
      ],
      "source": [
        "chi2_selector = SelectKBest(chi2, k=5)\n",
        "X_kbest = chi2_selector.fit_transform(X, y)\n",
        "selected_features = X.columns[chi2_selector.get_support()]\n",
        "print(\"Selected Features: \", selected_features)"
      ]
    },
    {
      "cell_type": "code",
      "execution_count": null,
      "metadata": {
        "id": "Lq-CVvsNQccu",
        "outputId": "2844ed56-cec1-45c3-d00a-185932fc1c4f"
      },
      "outputs": [
        {
          "name": "stdout",
          "output_type": "stream",
          "text": [
            "\n",
            "Chi2 Scores for all features:\n",
            "               Feature    Chi2 Score        p-Value\n",
            "5        credit_score  20330.254956   0.000000e+00\n",
            "2              income    593.426732  4.503500e-131\n",
            "1              gender    351.787361   1.729495e-78\n",
            "6         loan_amount     23.496602   1.251346e-06\n",
            "4      marital_status      6.296443   1.209805e-02\n",
            "9      home_ownership      3.332676   6.791629e-02\n",
            "8          dependents      2.613799   1.059377e-01\n",
            "7   employment_status      1.603967   2.053420e-01\n",
            "0                 age      1.352835   2.447831e-01\n",
            "3           education      0.330933   5.651101e-01\n",
            "10       loan_purpose      0.251812   6.158023e-01\n"
          ]
        }
      ],
      "source": [
        "# Calculando os valores do chi-quadrado e os p-valores\n",
        "chi2_scores = chi2_selector.scores_\n",
        "chi2_pvalues = chi2_selector.pvalues_\n",
        "\n",
        "# Criando um DataFrame para exibir os resultados de forma organizada\n",
        "chi2_results = pd.DataFrame({\n",
        "    'Feature': X.columns,\n",
        "    'Chi2 Score': chi2_scores,\n",
        "    'p-Value': chi2_pvalues\n",
        "})\n",
        "\n",
        "# Ordenando o DataFrame com base no score chi-quadrado\n",
        "chi2_results_sorted = chi2_results.sort_values(by='Chi2 Score', ascending=False)\n",
        "\n",
        "# Exibindo os resultados\n",
        "print(\"\\nChi2 Scores for all features:\\n\", chi2_results_sorted)"
      ]
    },
    {
      "cell_type": "markdown",
      "metadata": {
        "id": "Y0u0mn3MQccv"
      },
      "source": [
        "# 6 Treinamento de um Modelo de Machine Learning"
      ]
    },
    {
      "cell_type": "markdown",
      "metadata": {
        "id": "HcyhbZbHQccv"
      },
      "source": [
        "## 6.1 Treinamento de um Modelo de Machine Learning - Dados brutos"
      ]
    },
    {
      "cell_type": "code",
      "execution_count": null,
      "metadata": {
        "id": "ahMDHnjFQccv",
        "outputId": "f7433c9e-994a-48e1-ebe2-62dbf69b76f0"
      },
      "outputs": [
        {
          "name": "stderr",
          "output_type": "stream",
          "text": [
            "c:\\Users\\filip\\GitHub\\FIAP-Feature-Engineering\\venv\\Lib\\site-packages\\sklearn\\linear_model\\_logistic.py:469: ConvergenceWarning: lbfgs failed to converge (status=1):\n",
            "STOP: TOTAL NO. of ITERATIONS REACHED LIMIT.\n",
            "\n",
            "Increase the number of iterations (max_iter) or scale the data as shown in:\n",
            "    https://scikit-learn.org/stable/modules/preprocessing.html\n",
            "Please also refer to the documentation for alternative solver options:\n",
            "    https://scikit-learn.org/stable/modules/linear_model.html#logistic-regression\n",
            "  n_iter_i = _check_optimize_result(\n"
          ]
        }
      ],
      "source": [
        "X_raw_train, X_raw_test, y_train, y_test = train_test_split(X, y, test_size=0.3, random_state=42)\n",
        "model_raw = LogisticRegression()\n",
        "model_raw.fit(X_raw_train, y_train)\n",
        "y_pred_raw = model_raw.predict(X_raw_test)"
      ]
    },
    {
      "cell_type": "markdown",
      "metadata": {
        "id": "tV0vwBvSQccw"
      },
      "source": [
        "## 6.2 Avaliação do Modelo com Dados brutos"
      ]
    },
    {
      "cell_type": "code",
      "execution_count": null,
      "metadata": {
        "id": "U11S4VivQccw",
        "outputId": "bb14802f-23a0-4456-a06b-e31625df5759"
      },
      "outputs": [
        {
          "name": "stdout",
          "output_type": "stream",
          "text": [
            "Accuracy: 0.6486666666666666\n"
          ]
        },
        {
          "data": {
            "image/png": "[encoded data removed]",
            "text/plain": [
              "<Figure size 800x600 with 1 Axes>"
            ]
          },
          "metadata": {},
          "output_type": "display_data"
        }
      ],
      "source": [
        "# Supondo que y são os valores reais e y_pred_raw são as previsões do modelo\n",
        "accuracy = accuracy_score(y_test, y_pred_raw)\n",
        "conf_matrix = confusion_matrix(y_test, y_pred_raw)\n",
        "\n",
        "# Exibindo a acurácia\n",
        "print(\"Accuracy:\", accuracy)\n",
        "\n",
        "# Plotando a matriz de confusão\n",
        "plt.figure(figsize=(8, 6))\n",
        "sns.heatmap(conf_matrix, annot=True, fmt='d', cmap='Blues', cbar=False,\n",
        "            xticklabels=['Classe Negativa', 'Classe Positiva'],\n",
        "            yticklabels=['Classe Negativa', 'Classe Positiva'])\n",
        "plt.title('Confusion Matrix')\n",
        "plt.xlabel('Predicted')\n",
        "plt.ylabel('Actual')\n",
        "plt.show()"
      ]
    },
    {
      "cell_type": "markdown",
      "metadata": {
        "id": "r-NJqDTxQccw"
      },
      "source": [
        "## 6.3 Treinamento de um Modelo de Machine Learning - Dados tratados"
      ]
    },
    {
      "cell_type": "code",
      "execution_count": null,
      "metadata": {
        "id": "etK_NYILQccw"
      },
      "outputs": [],
      "source": [
        "X_kbest_train, X_kbest_test, y_train, y_test = train_test_split(X_kbest, y, test_size=0.3, random_state=42)\n",
        "model_kbest = LogisticRegression()\n",
        "model_kbest.fit(X_kbest_train, y_train)\n",
        "y_pred_kbest = model_kbest.predict(X_kbest_test)"
      ]
    },
    {
      "cell_type": "markdown",
      "metadata": {
        "id": "oKqX3962Qccx"
      },
      "source": [
        "## 6.4 Avaliação do Modelo com Dados tratados"
      ]
    },
    {
      "cell_type": "code",
      "execution_count": null,
      "metadata": {
        "id": "i_DFu6iYQccx",
        "outputId": "8bfe5ab4-e552-4e08-e739-ae22e568d98e"
      },
      "outputs": [
        {
          "name": "stdout",
          "output_type": "stream",
          "text": [
            "Accuracy: 0.6486666666666666\n"
          ]
        },
        {
          "data": {
            "image/png": "[encoded data removed]",
            "text/plain": [
              "<Figure size 800x600 with 1 Axes>"
            ]
          },
          "metadata": {},
          "output_type": "display_data"
        }
      ],
      "source": [
        "# Supondo que y são os valores reais e y_pred_kbest são as previsões do modelo\n",
        "accuracy = accuracy_score(y_test, y_pred_kbest)\n",
        "conf_matrix = confusion_matrix(y_test, y_pred_kbest)\n",
        "\n",
        "# Exibindo a acurácia\n",
        "print(\"Accuracy:\", accuracy)\n",
        "\n",
        "# Plotando a matriz de confusão\n",
        "plt.figure(figsize=(8, 6))\n",
        "sns.heatmap(conf_matrix, annot=True, fmt='d', cmap='Blues', cbar=False,\n",
        "            xticklabels=['Classe Negativa', 'Classe Positiva'],\n",
        "            yticklabels=['Classe Negativa', 'Classe Positiva'])\n",
        "plt.title('Confusion Matrix')\n",
        "plt.xlabel('Predicted')\n",
        "plt.ylabel('Actual')\n",
        "plt.show()"
      ]
    },
    {
      "cell_type": "markdown",
      "source": [
        "\n",
        "\n",
        "```\n",
        "# Isto está formatado como código\n",
        "```\n",
        "\n",
        "# Nova base"
      ],
      "metadata": {
        "id": "ENiJG641SG1F"
      }
    },
    {
      "cell_type": "markdown",
      "source": [
        "Este dataset contém informações detalhadas sobre clientes de um banco, incluindo dados demográficos, financeiros e de status de emprego. As informações fornecidas são ideais para a análise de crédito, perfis de clientes e podem ser utilizadas em diversas técnicas de feature engineering e análise exploratória.\n",
        "\n",
        "Principais Características do Dataset:\n",
        "id: código interno de uma pessoa cliente do banco\n",
        "idade: Idade do cliente (em anos).\n",
        "sexo: Gênero do cliente (Masculino ou Feminino).\n",
        "estado_civil: Estado civil do cliente (Solteiro, Casado, Divorciado).\n",
        "escola: Nível de escolaridade do cliente (Ensino Fundamental, Médio, Graduação, Doutorado)\n",
        "Qte_dependentes: Número de dependentes do cliente.\n",
        "tempo_ultimoservico: Tempo de trabalho (em meses)\n",
        "trabalha: Situação de emprego do cliente (Não = 0, Sim = 1).\n",
        "vl_salario_mil: salario (em milhares).\n",
        "reg_moradia: região da moradia: (1 = Segmento geográfico A, 2 = Segmento geográfico B, 3 = Segmento geográfico C, 4 = Segmento geográfico D, 5 = Segmento geográfico E, 6 = Segmento geográfico F)\n",
        "casa_propria = casa própria (0 = Não, 1 = Sim)\n",
        "vl_imovel_em_mil: valor do imóvel (em reais)\n",
        "Qtde_cartoes: Quantidade de Cartões de Crédito\n",
        "Qte_carros: Quantidade de carros\n",
        "Score_credito: Credit Scoring"
      ],
      "metadata": {
        "id": "xZgenhYCTLbj"
      }
    },
    {
      "cell_type": "code",
      "source": [
        "import pandas as pd\n"
      ],
      "metadata": {
        "id": "f6bEItM9SWId"
      },
      "execution_count": 2,
      "outputs": []
    },
    {
      "cell_type": "code",
      "source": [
        "df_score = pd.read_csv('/content/Base_ScoreCredito_QuantumFinance.csv',sep = ';')\n",
        "df_score.head()"
      ],
      "metadata": {
        "colab": {
          "base_uri": "https://localhost:8080/",
          "height": 243
        },
        "id": "1KjfudShSKi6",
        "outputId": "cc10a4d8-2cac-48d9-e741-9e1f6a74c047"
      },
      "execution_count": 6,
      "outputs": [
        {
          "output_type": "execute_result",
          "data": {
            "text/plain": [
              "          id  idade sexo estado_civil         escola  Qte_dependentes  \\\n",
              "0  708082083     45    F       casado      graduacao                3   \n",
              "1  708083283     58    M     solteiro  ensino fundam                0   \n",
              "2  708084558     46    M   divorciado      doutorado                3   \n",
              "3  708085458     34    F     solteiro       mestrado                0   \n",
              "4  708086958     49    F       casado       mestrado                2   \n",
              "\n",
              "   tempo_ultimoservico  trabalha    vl_salario_mil  reg_moradia  casa_propria  \\\n",
              "0                   40         1   40,089665024322            3             0   \n",
              "1                   44         1   66,557645274838            3             0   \n",
              "2                   35         1   123,68182089138            6             0   \n",
              "3                   22         1  19,7159343168329            6             0   \n",
              "4                   36         0                 0            3             1   \n",
              "\n",
              "   vl_imovel_em_mil  Qte_cartoes  Qte_carros SCORE_CREDITO  \n",
              "0                 0            1           1           778  \n",
              "1                 0            1           0         276,3  \n",
              "2                 0            1           1           401  \n",
              "3                 0            1           0         347,4  \n",
              "4               437            1           2           476  "
            ],
            "text/html": [
              "\n",
              "  <div id=\"df-ad6e700b-94eb-4abe-a3a0-5cfd1d8f4426\" class=\"colab-df-container\">\n",
              "    <div>\n",
              "<style scoped>\n",
              "    .dataframe tbody tr th:only-of-type {\n",
              "        vertical-align: middle;\n",
              "    }\n",
              "\n",
              "    .dataframe tbody tr th {\n",
              "        vertical-align: top;\n",
              "    }\n",
              "\n",
              "    .dataframe thead th {\n",
              "        text-align: right;\n",
              "    }\n",
              "</style>\n",
              "<table border=\"1\" class=\"dataframe\">\n",
              "  <thead>\n",
              "    <tr style=\"text-align: right;\">\n",
              "      <th></th>\n",
              "      <th>id</th>\n",
              "      <th>idade</th>\n",
              "      <th>sexo</th>\n",
              "      <th>estado_civil</th>\n",
              "      <th>escola</th>\n",
              "      <th>Qte_dependentes</th>\n",
              "      <th>tempo_ultimoservico</th>\n",
              "      <th>trabalha</th>\n",
              "      <th>vl_salario_mil</th>\n",
              "      <th>reg_moradia</th>\n",
              "      <th>casa_propria</th>\n",
              "      <th>vl_imovel_em_mil</th>\n",
              "      <th>Qte_cartoes</th>\n",
              "      <th>Qte_carros</th>\n",
              "      <th>SCORE_CREDITO</th>\n",
              "    </tr>\n",
              "  </thead>\n",
              "  <tbody>\n",
              "    <tr>\n",
              "      <th>0</th>\n",
              "      <td>708082083</td>\n",
              "      <td>45</td>\n",
              "      <td>F</td>\n",
              "      <td>casado</td>\n",
              "      <td>graduacao</td>\n",
              "      <td>3</td>\n",
              "      <td>40</td>\n",
              "      <td>1</td>\n",
              "      <td>40,089665024322</td>\n",
              "      <td>3</td>\n",
              "      <td>0</td>\n",
              "      <td>0</td>\n",
              "      <td>1</td>\n",
              "      <td>1</td>\n",
              "      <td>778</td>\n",
              "    </tr>\n",
              "    <tr>\n",
              "      <th>1</th>\n",
              "      <td>708083283</td>\n",
              "      <td>58</td>\n",
              "      <td>M</td>\n",
              "      <td>solteiro</td>\n",
              "      <td>ensino fundam</td>\n",
              "      <td>0</td>\n",
              "      <td>44</td>\n",
              "      <td>1</td>\n",
              "      <td>66,557645274838</td>\n",
              "      <td>3</td>\n",
              "      <td>0</td>\n",
              "      <td>0</td>\n",
              "      <td>1</td>\n",
              "      <td>0</td>\n",
              "      <td>276,3</td>\n",
              "    </tr>\n",
              "    <tr>\n",
              "      <th>2</th>\n",
              "      <td>708084558</td>\n",
              "      <td>46</td>\n",
              "      <td>M</td>\n",
              "      <td>divorciado</td>\n",
              "      <td>doutorado</td>\n",
              "      <td>3</td>\n",
              "      <td>35</td>\n",
              "      <td>1</td>\n",
              "      <td>123,68182089138</td>\n",
              "      <td>6</td>\n",
              "      <td>0</td>\n",
              "      <td>0</td>\n",
              "      <td>1</td>\n",
              "      <td>1</td>\n",
              "      <td>401</td>\n",
              "    </tr>\n",
              "    <tr>\n",
              "      <th>3</th>\n",
              "      <td>708085458</td>\n",
              "      <td>34</td>\n",
              "      <td>F</td>\n",
              "      <td>solteiro</td>\n",
              "      <td>mestrado</td>\n",
              "      <td>0</td>\n",
              "      <td>22</td>\n",
              "      <td>1</td>\n",
              "      <td>19,7159343168329</td>\n",
              "      <td>6</td>\n",
              "      <td>0</td>\n",
              "      <td>0</td>\n",
              "      <td>1</td>\n",
              "      <td>0</td>\n",
              "      <td>347,4</td>\n",
              "    </tr>\n",
              "    <tr>\n",
              "      <th>4</th>\n",
              "      <td>708086958</td>\n",
              "      <td>49</td>\n",
              "      <td>F</td>\n",
              "      <td>casado</td>\n",
              "      <td>mestrado</td>\n",
              "      <td>2</td>\n",
              "      <td>36</td>\n",
              "      <td>0</td>\n",
              "      <td>0</td>\n",
              "      <td>3</td>\n",
              "      <td>1</td>\n",
              "      <td>437</td>\n",
              "      <td>1</td>\n",
              "      <td>2</td>\n",
              "      <td>476</td>\n",
              "    </tr>\n",
              "  </tbody>\n",
              "</table>\n",
              "</div>\n",
              "    <div class=\"colab-df-buttons\">\n",
              "\n",
              "  <div class=\"colab-df-container\">\n",
              "    <button class=\"colab-df-convert\" onclick=\"convertToInteractive('df-ad6e700b-94eb-4abe-a3a0-5cfd1d8f4426')\"\n",
              "            title=\"Convert this dataframe to an interactive table.\"\n",
              "            style=\"display:none;\">\n",
              "\n",
              "  <svg xmlns=\"http://www.w3.org/2000/svg\" height=\"24px\" viewBox=\"0 -960 960 960\">\n",
              "    <path d=\"M120-120v-720h720v720H120Zm60-500h600v-160H180v160Zm220 220h160v-160H400v160Zm0 220h160v-160H400v160ZM180-400h160v-160H180v160Zm440 0h160v-160H620v160ZM180-180h160v-160H180v160Zm440 0h160v-160H620v160Z\"/>\n",
              "  </svg>\n",
              "    </button>\n",
              "\n",
              "  <style>\n",
              "    .colab-df-container {\n",
              "      display:flex;\n",
              "      gap: 12px;\n",
              "    }\n",
              "\n",
              "    .colab-df-convert {\n",
              "      background-color: #E8F0FE;\n",
              "      border: none;\n",
              "      border-radius: 50%;\n",
              "      cursor: pointer;\n",
              "      display: none;\n",
              "      fill: #1967D2;\n",
              "      height: 32px;\n",
              "      padding: 0 0 0 0;\n",
              "      width: 32px;\n",
              "    }\n",
              "\n",
              "    .colab-df-convert:hover {\n",
              "      background-color: #E2EBFA;\n",
              "      box-shadow: 0px 1px 2px rgba(60, 64, 67, 0.3), 0px 1px 3px 1px rgba(60, 64, 67, 0.15);\n",
              "      fill: #174EA6;\n",
              "    }\n",
              "\n",
              "    .colab-df-buttons div {\n",
              "      margin-bottom: 4px;\n",
              "    }\n",
              "\n",
              "    [theme=dark] .colab-df-convert {\n",
              "      background-color: #3B4455;\n",
              "      fill: #D2E3FC;\n",
              "    }\n",
              "\n",
              "    [theme=dark] .colab-df-convert:hover {\n",
              "      background-color: #434B5C;\n",
              "      box-shadow: 0px 1px 3px 1px rgba(0, 0, 0, 0.15);\n",
              "      filter: drop-shadow(0px 1px 2px rgba(0, 0, 0, 0.3));\n",
              "      fill: #FFFFFF;\n",
              "    }\n",
              "  </style>\n",
              "\n",
              "    <script>\n",
              "      const buttonEl =\n",
              "        document.querySelector('#df-ad6e700b-94eb-4abe-a3a0-5cfd1d8f4426 button.colab-df-convert');\n",
              "      buttonEl.style.display =\n",
              "        google.colab.kernel.accessAllowed ? 'block' : 'none';\n",
              "\n",
              "      async function convertToInteractive(key) {\n",
              "        const element = document.querySelector('#df-ad6e700b-94eb-4abe-a3a0-5cfd1d8f4426');\n",
              "        const dataTable =\n",
              "          await google.colab.kernel.invokeFunction('convertToInteractive',\n",
              "                                                    [key], {});\n",
              "        if (!dataTable) return;\n",
              "\n",
              "        const docLinkHtml = 'Like what you see? Visit the ' +\n",
              "          '<a target=\"_blank\" href=https://colab.research.google.com/notebooks/data_table.ipynb>data table notebook</a>'\n",
              "          + ' to learn more about interactive tables.';\n",
              "        element.innerHTML = '';\n",
              "        dataTable['output_type'] = 'display_data';\n",
              "        await google.colab.output.renderOutput(dataTable, element);\n",
              "        const docLink = document.createElement('div');\n",
              "        docLink.innerHTML = docLinkHtml;\n",
              "        element.appendChild(docLink);\n",
              "      }\n",
              "    </script>\n",
              "  </div>\n",
              "\n",
              "\n",
              "<div id=\"df-540f18f3-6c50-40d5-b514-10779d36d42d\">\n",
              "  <button class=\"colab-df-quickchart\" onclick=\"quickchart('df-540f18f3-6c50-40d5-b514-10779d36d42d')\"\n",
              "            title=\"Suggest charts\"\n",
              "            style=\"display:none;\">\n",
              "\n",
              "<svg xmlns=\"http://www.w3.org/2000/svg\" height=\"24px\"viewBox=\"0 0 24 24\"\n",
              "     width=\"24px\">\n",
              "    <g>\n",
              "        <path d=\"M19 3H5c-1.1 0-2 .9-2 2v14c0 1.1.9 2 2 2h14c1.1 0 2-.9 2-2V5c0-1.1-.9-2-2-2zM9 17H7v-7h2v7zm4 0h-2V7h2v10zm4 0h-2v-4h2v4z\"/>\n",
              "    </g>\n",
              "</svg>\n",
              "  </button>\n",
              "\n",
              "<style>\n",
              "  .colab-df-quickchart {\n",
              "      --bg-color: #E8F0FE;\n",
              "      --fill-color: #1967D2;\n",
              "      --hover-bg-color: #E2EBFA;\n",
              "      --hover-fill-color: #174EA6;\n",
              "      --disabled-fill-color: #AAA;\n",
              "      --disabled-bg-color: #DDD;\n",
              "  }\n",
              "\n",
              "  [theme=dark] .colab-df-quickchart {\n",
              "      --bg-color: #3B4455;\n",
              "      --fill-color: #D2E3FC;\n",
              "      --hover-bg-color: #434B5C;\n",
              "      --hover-fill-color: #FFFFFF;\n",
              "      --disabled-bg-color: #3B4455;\n",
              "      --disabled-fill-color: #666;\n",
              "  }\n",
              "\n",
              "  .colab-df-quickchart {\n",
              "    background-color: var(--bg-color);\n",
              "    border: none;\n",
              "    border-radius: 50%;\n",
              "    cursor: pointer;\n",
              "    display: none;\n",
              "    fill: var(--fill-color);\n",
              "    height: 32px;\n",
              "    padding: 0;\n",
              "    width: 32px;\n",
              "  }\n",
              "\n",
              "  .colab-df-quickchart:hover {\n",
              "    background-color: var(--hover-bg-color);\n",
              "    box-shadow: 0 1px 2px rgba(60, 64, 67, 0.3), 0 1px 3px 1px rgba(60, 64, 67, 0.15);\n",
              "    fill: var(--button-hover-fill-color);\n",
              "  }\n",
              "\n",
              "  .colab-df-quickchart-complete:disabled,\n",
              "  .colab-df-quickchart-complete:disabled:hover {\n",
              "    background-color: var(--disabled-bg-color);\n",
              "    fill: var(--disabled-fill-color);\n",
              "    box-shadow: none;\n",
              "  }\n",
              "\n",
              "  .colab-df-spinner {\n",
              "    border: 2px solid var(--fill-color);\n",
              "    border-color: transparent;\n",
              "    border-bottom-color: var(--fill-color);\n",
              "    animation:\n",
              "      spin 1s steps(1) infinite;\n",
              "  }\n",
              "\n",
              "  @keyframes spin {\n",
              "    0% {\n",
              "      border-color: transparent;\n",
              "      border-bottom-color: var(--fill-color);\n",
              "      border-left-color: var(--fill-color);\n",
              "    }\n",
              "    20% {\n",
              "      border-color: transparent;\n",
              "      border-left-color: var(--fill-color);\n",
              "      border-top-color: var(--fill-color);\n",
              "    }\n",
              "    30% {\n",
              "      border-color: transparent;\n",
              "      border-left-color: var(--fill-color);\n",
              "      border-top-color: var(--fill-color);\n",
              "      border-right-color: var(--fill-color);\n",
              "    }\n",
              "    40% {\n",
              "      border-color: transparent;\n",
              "      border-right-color: var(--fill-color);\n",
              "      border-top-color: var(--fill-color);\n",
              "    }\n",
              "    60% {\n",
              "      border-color: transparent;\n",
              "      border-right-color: var(--fill-color);\n",
              "    }\n",
              "    80% {\n",
              "      border-color: transparent;\n",
              "      border-right-color: var(--fill-color);\n",
              "      border-bottom-color: var(--fill-color);\n",
              "    }\n",
              "    90% {\n",
              "      border-color: transparent;\n",
              "      border-bottom-color: var(--fill-color);\n",
              "    }\n",
              "  }\n",
              "</style>\n",
              "\n",
              "  <script>\n",
              "    async function quickchart(key) {\n",
              "      const quickchartButtonEl =\n",
              "        document.querySelector('#' + key + ' button');\n",
              "      quickchartButtonEl.disabled = true;  // To prevent multiple clicks.\n",
              "      quickchartButtonEl.classList.add('colab-df-spinner');\n",
              "      try {\n",
              "        const charts = await google.colab.kernel.invokeFunction(\n",
              "            'suggestCharts', [key], {});\n",
              "      } catch (error) {\n",
              "        console.error('Error during call to suggestCharts:', error);\n",
              "      }\n",
              "      quickchartButtonEl.classList.remove('colab-df-spinner');\n",
              "      quickchartButtonEl.classList.add('colab-df-quickchart-complete');\n",
              "    }\n",
              "    (() => {\n",
              "      let quickchartButtonEl =\n",
              "        document.querySelector('#df-540f18f3-6c50-40d5-b514-10779d36d42d button');\n",
              "      quickchartButtonEl.style.display =\n",
              "        google.colab.kernel.accessAllowed ? 'block' : 'none';\n",
              "    })();\n",
              "  </script>\n",
              "</div>\n",
              "\n",
              "    </div>\n",
              "  </div>\n"
            ],
            "application/vnd.google.colaboratory.intrinsic+json": {
              "type": "dataframe",
              "variable_name": "df_score",
              "summary": "{\n  \"name\": \"df_score\",\n  \"rows\": 10127,\n  \"fields\": [\n    {\n      \"column\": \"id\",\n      \"properties\": {\n        \"dtype\": \"number\",\n        \"std\": 36903783,\n        \"min\": 708082083,\n        \"max\": 828343083,\n        \"num_unique_values\": 10127,\n        \"samples\": [\n          715277583,\n          713757633,\n          717947508\n        ],\n        \"semantic_type\": \"\",\n        \"description\": \"\"\n      }\n    },\n    {\n      \"column\": \"idade\",\n      \"properties\": {\n        \"dtype\": \"number\",\n        \"std\": 8,\n        \"min\": 26,\n        \"max\": 73,\n        \"num_unique_values\": 45,\n        \"samples\": [\n          60,\n          38,\n          33\n        ],\n        \"semantic_type\": \"\",\n        \"description\": \"\"\n      }\n    },\n    {\n      \"column\": \"sexo\",\n      \"properties\": {\n        \"dtype\": \"category\",\n        \"num_unique_values\": 2,\n        \"samples\": [\n          \"M\",\n          \"F\"\n        ],\n        \"semantic_type\": \"\",\n        \"description\": \"\"\n      }\n    },\n    {\n      \"column\": \"estado_civil\",\n      \"properties\": {\n        \"dtype\": \"category\",\n        \"num_unique_values\": 4,\n        \"samples\": [\n          \"solteiro\",\n          \"na\"\n        ],\n        \"semantic_type\": \"\",\n        \"description\": \"\"\n      }\n    },\n    {\n      \"column\": \"escola\",\n      \"properties\": {\n        \"dtype\": \"category\",\n        \"num_unique_values\": 5,\n        \"samples\": [\n          \"ensino fundam\",\n          \"ensino medio\"\n        ],\n        \"semantic_type\": \"\",\n        \"description\": \"\"\n      }\n    },\n    {\n      \"column\": \"Qte_dependentes\",\n      \"properties\": {\n        \"dtype\": \"number\",\n        \"std\": 1,\n        \"min\": 0,\n        \"max\": 5,\n        \"num_unique_values\": 6,\n        \"samples\": [\n          3,\n          0\n        ],\n        \"semantic_type\": \"\",\n        \"description\": \"\"\n      }\n    },\n    {\n      \"column\": \"tempo_ultimoservico\",\n      \"properties\": {\n        \"dtype\": \"number\",\n        \"std\": 8,\n        \"min\": 7,\n        \"max\": 57,\n        \"num_unique_values\": 50,\n        \"samples\": [\n          24,\n          11\n        ],\n        \"semantic_type\": \"\",\n        \"description\": \"\"\n      }\n    },\n    {\n      \"column\": \"trabalha\",\n      \"properties\": {\n        \"dtype\": \"number\",\n        \"std\": 0,\n        \"min\": 0,\n        \"max\": 1,\n        \"num_unique_values\": 2,\n        \"samples\": [\n          0,\n          1\n        ],\n        \"semantic_type\": \"\",\n        \"description\": \"\"\n      }\n    },\n    {\n      \"column\": \"vl_salario_mil\",\n      \"properties\": {\n        \"dtype\": \"string\",\n        \"num_unique_values\": 9236,\n        \"samples\": [\n          \"21,929277072348\",\n          \"128,3693583152\"\n        ],\n        \"semantic_type\": \"\",\n        \"description\": \"\"\n      }\n    },\n    {\n      \"column\": \"reg_moradia\",\n      \"properties\": {\n        \"dtype\": \"number\",\n        \"std\": 1,\n        \"min\": 1,\n        \"max\": 6,\n        \"num_unique_values\": 6,\n        \"samples\": [\n          3,\n          6\n        ],\n        \"semantic_type\": \"\",\n        \"description\": \"\"\n      }\n    },\n    {\n      \"column\": \"casa_propria\",\n      \"properties\": {\n        \"dtype\": \"number\",\n        \"std\": 0,\n        \"min\": 0,\n        \"max\": 1,\n        \"num_unique_values\": 2,\n        \"samples\": [\n          1,\n          0\n        ],\n        \"semantic_type\": \"\",\n        \"description\": \"\"\n      }\n    },\n    {\n      \"column\": \"vl_imovel_em_mil\",\n      \"properties\": {\n        \"dtype\": \"number\",\n        \"std\": 378,\n        \"min\": 0,\n        \"max\": 1800,\n        \"num_unique_values\": 908,\n        \"samples\": [\n          895,\n          324\n        ],\n        \"semantic_type\": \"\",\n        \"description\": \"\"\n      }\n    },\n    {\n      \"column\": \"Qte_cartoes\",\n      \"properties\": {\n        \"dtype\": \"number\",\n        \"std\": 0,\n        \"min\": 1,\n        \"max\": 4,\n        \"num_unique_values\": 4,\n        \"samples\": [\n          2,\n          4\n        ],\n        \"semantic_type\": \"\",\n        \"description\": \"\"\n      }\n    },\n    {\n      \"column\": \"Qte_carros\",\n      \"properties\": {\n        \"dtype\": \"number\",\n        \"std\": 0,\n        \"min\": 0,\n        \"max\": 2,\n        \"num_unique_values\": 3,\n        \"samples\": [\n          1,\n          0\n        ],\n        \"semantic_type\": \"\",\n        \"description\": \"\"\n      }\n    },\n    {\n      \"column\": \"SCORE_CREDITO\",\n      \"properties\": {\n        \"dtype\": \"category\",\n        \"num_unique_values\": 1864,\n        \"samples\": [\n          \"359,1\",\n          \"552\"\n        ],\n        \"semantic_type\": \"\",\n        \"description\": \"\"\n      }\n    }\n  ]\n}"
            }
          },
          "metadata": {},
          "execution_count": 6
        }
      ]
    },
    {
      "cell_type": "code",
      "source": [
        "df_score.info()\n"
      ],
      "metadata": {
        "colab": {
          "base_uri": "https://localhost:8080/"
        },
        "id": "5zMK6PjVSUqG",
        "outputId": "36d1a0d0-3204-4df3-b664-0d8f40bcb571"
      },
      "execution_count": 7,
      "outputs": [
        {
          "output_type": "stream",
          "name": "stdout",
          "text": [
            "<class 'pandas.core.frame.DataFrame'>\n",
            "RangeIndex: 10127 entries, 0 to 10126\n",
            "Data columns (total 15 columns):\n",
            " #   Column               Non-Null Count  Dtype \n",
            "---  ------               --------------  ----- \n",
            " 0   id                   10127 non-null  int64 \n",
            " 1   idade                10127 non-null  int64 \n",
            " 2   sexo                 10127 non-null  object\n",
            " 3   estado_civil         10127 non-null  object\n",
            " 4   escola               10127 non-null  object\n",
            " 5   Qte_dependentes      10127 non-null  int64 \n",
            " 6   tempo_ultimoservico  10127 non-null  int64 \n",
            " 7   trabalha             10127 non-null  int64 \n",
            " 8   vl_salario_mil       10127 non-null  object\n",
            " 9   reg_moradia          10127 non-null  int64 \n",
            " 10  casa_propria         10127 non-null  int64 \n",
            " 11  vl_imovel_em_mil     10127 non-null  int64 \n",
            " 12  Qte_cartoes          10127 non-null  int64 \n",
            " 13  Qte_carros           10127 non-null  int64 \n",
            " 14  SCORE_CREDITO        10127 non-null  object\n",
            "dtypes: int64(10), object(5)\n",
            "memory usage: 1.2+ MB\n"
          ]
        }
      ]
    },
    {
      "cell_type": "code",
      "source": [
        "df_score.describe()"
      ],
      "metadata": {
        "colab": {
          "base_uri": "https://localhost:8080/",
          "height": 320
        },
        "id": "loaQmQ9dS9pd",
        "outputId": "e68cb1bb-e6cd-482a-cbee-eb28cddef8d1"
      },
      "execution_count": 8,
      "outputs": [
        {
          "output_type": "execute_result",
          "data": {
            "text/plain": [
              "                 id         idade  Qte_dependentes  tempo_ultimoservico  \\\n",
              "count  1.012700e+04  10127.000000     10127.000000         10127.000000   \n",
              "mean   7.391776e+08     46.325960         1.547447            34.133208   \n",
              "std    3.690378e+07      8.016814         1.489079             8.221428   \n",
              "min    7.080821e+08     26.000000         0.000000             7.000000   \n",
              "25%    7.130368e+08     41.000000         0.000000            30.000000   \n",
              "50%    7.179264e+08     46.000000         1.000000            34.000000   \n",
              "75%    7.731435e+08     52.000000         3.000000            39.000000   \n",
              "max    8.283431e+08     73.000000         5.000000            57.000000   \n",
              "\n",
              "           trabalha   reg_moradia  casa_propria  vl_imovel_em_mil  \\\n",
              "count  10127.000000  10127.000000  10127.000000      10127.000000   \n",
              "mean       0.911919      3.783450      0.352424        208.999111   \n",
              "std        0.283427      1.580486      0.477749        378.495229   \n",
              "min        0.000000      1.000000      0.000000          0.000000   \n",
              "25%        1.000000      3.000000      0.000000          0.000000   \n",
              "50%        1.000000      4.000000      0.000000          0.000000   \n",
              "75%        1.000000      5.000000      1.000000        289.000000   \n",
              "max        1.000000      6.000000      1.000000       1800.000000   \n",
              "\n",
              "        Qte_cartoes    Qte_carros  \n",
              "count  10127.000000  10127.000000  \n",
              "mean       1.083638      0.623383  \n",
              "std        0.333784      0.569796  \n",
              "min        1.000000      0.000000  \n",
              "25%        1.000000      0.000000  \n",
              "50%        1.000000      1.000000  \n",
              "75%        1.000000      1.000000  \n",
              "max        4.000000      2.000000  "
            ],
            "text/html": [
              "\n",
              "  <div id=\"df-19f0cab2-d09b-4e86-8b32-40e4e837a5da\" class=\"colab-df-container\">\n",
              "    <div>\n",
              "<style scoped>\n",
              "    .dataframe tbody tr th:only-of-type {\n",
              "        vertical-align: middle;\n",
              "    }\n",
              "\n",
              "    .dataframe tbody tr th {\n",
              "        vertical-align: top;\n",
              "    }\n",
              "\n",
              "    .dataframe thead th {\n",
              "        text-align: right;\n",
              "    }\n",
              "</style>\n",
              "<table border=\"1\" class=\"dataframe\">\n",
              "  <thead>\n",
              "    <tr style=\"text-align: right;\">\n",
              "      <th></th>\n",
              "      <th>id</th>\n",
              "      <th>idade</th>\n",
              "      <th>Qte_dependentes</th>\n",
              "      <th>tempo_ultimoservico</th>\n",
              "      <th>trabalha</th>\n",
              "      <th>reg_moradia</th>\n",
              "      <th>casa_propria</th>\n",
              "      <th>vl_imovel_em_mil</th>\n",
              "      <th>Qte_cartoes</th>\n",
              "      <th>Qte_carros</th>\n",
              "    </tr>\n",
              "  </thead>\n",
              "  <tbody>\n",
              "    <tr>\n",
              "      <th>count</th>\n",
              "      <td>1.012700e+04</td>\n",
              "      <td>10127.000000</td>\n",
              "      <td>10127.000000</td>\n",
              "      <td>10127.000000</td>\n",
              "      <td>10127.000000</td>\n",
              "      <td>10127.000000</td>\n",
              "      <td>10127.000000</td>\n",
              "      <td>10127.000000</td>\n",
              "      <td>10127.000000</td>\n",
              "      <td>10127.000000</td>\n",
              "    </tr>\n",
              "    <tr>\n",
              "      <th>mean</th>\n",
              "      <td>7.391776e+08</td>\n",
              "      <td>46.325960</td>\n",
              "      <td>1.547447</td>\n",
              "      <td>34.133208</td>\n",
              "      <td>0.911919</td>\n",
              "      <td>3.783450</td>\n",
              "      <td>0.352424</td>\n",
              "      <td>208.999111</td>\n",
              "      <td>1.083638</td>\n",
              "      <td>0.623383</td>\n",
              "    </tr>\n",
              "    <tr>\n",
              "      <th>std</th>\n",
              "      <td>3.690378e+07</td>\n",
              "      <td>8.016814</td>\n",
              "      <td>1.489079</td>\n",
              "      <td>8.221428</td>\n",
              "      <td>0.283427</td>\n",
              "      <td>1.580486</td>\n",
              "      <td>0.477749</td>\n",
              "      <td>378.495229</td>\n",
              "      <td>0.333784</td>\n",
              "      <td>0.569796</td>\n",
              "    </tr>\n",
              "    <tr>\n",
              "      <th>min</th>\n",
              "      <td>7.080821e+08</td>\n",
              "      <td>26.000000</td>\n",
              "      <td>0.000000</td>\n",
              "      <td>7.000000</td>\n",
              "      <td>0.000000</td>\n",
              "      <td>1.000000</td>\n",
              "      <td>0.000000</td>\n",
              "      <td>0.000000</td>\n",
              "      <td>1.000000</td>\n",
              "      <td>0.000000</td>\n",
              "    </tr>\n",
              "    <tr>\n",
              "      <th>25%</th>\n",
              "      <td>7.130368e+08</td>\n",
              "      <td>41.000000</td>\n",
              "      <td>0.000000</td>\n",
              "      <td>30.000000</td>\n",
              "      <td>1.000000</td>\n",
              "      <td>3.000000</td>\n",
              "      <td>0.000000</td>\n",
              "      <td>0.000000</td>\n",
              "      <td>1.000000</td>\n",
              "      <td>0.000000</td>\n",
              "    </tr>\n",
              "    <tr>\n",
              "      <th>50%</th>\n",
              "      <td>7.179264e+08</td>\n",
              "      <td>46.000000</td>\n",
              "      <td>1.000000</td>\n",
              "      <td>34.000000</td>\n",
              "      <td>1.000000</td>\n",
              "      <td>4.000000</td>\n",
              "      <td>0.000000</td>\n",
              "      <td>0.000000</td>\n",
              "      <td>1.000000</td>\n",
              "      <td>1.000000</td>\n",
              "    </tr>\n",
              "    <tr>\n",
              "      <th>75%</th>\n",
              "      <td>7.731435e+08</td>\n",
              "      <td>52.000000</td>\n",
              "      <td>3.000000</td>\n",
              "      <td>39.000000</td>\n",
              "      <td>1.000000</td>\n",
              "      <td>5.000000</td>\n",
              "      <td>1.000000</td>\n",
              "      <td>289.000000</td>\n",
              "      <td>1.000000</td>\n",
              "      <td>1.000000</td>\n",
              "    </tr>\n",
              "    <tr>\n",
              "      <th>max</th>\n",
              "      <td>8.283431e+08</td>\n",
              "      <td>73.000000</td>\n",
              "      <td>5.000000</td>\n",
              "      <td>57.000000</td>\n",
              "      <td>1.000000</td>\n",
              "      <td>6.000000</td>\n",
              "      <td>1.000000</td>\n",
              "      <td>1800.000000</td>\n",
              "      <td>4.000000</td>\n",
              "      <td>2.000000</td>\n",
              "    </tr>\n",
              "  </tbody>\n",
              "</table>\n",
              "</div>\n",
              "    <div class=\"colab-df-buttons\">\n",
              "\n",
              "  <div class=\"colab-df-container\">\n",
              "    <button class=\"colab-df-convert\" onclick=\"convertToInteractive('df-19f0cab2-d09b-4e86-8b32-40e4e837a5da')\"\n",
              "            title=\"Convert this dataframe to an interactive table.\"\n",
              "            style=\"display:none;\">\n",
              "\n",
              "  <svg xmlns=\"http://www.w3.org/2000/svg\" height=\"24px\" viewBox=\"0 -960 960 960\">\n",
              "    <path d=\"M120-120v-720h720v720H120Zm60-500h600v-160H180v160Zm220 220h160v-160H400v160Zm0 220h160v-160H400v160ZM180-400h160v-160H180v160Zm440 0h160v-160H620v160ZM180-180h160v-160H180v160Zm440 0h160v-160H620v160Z\"/>\n",
              "  </svg>\n",
              "    </button>\n",
              "\n",
              "  <style>\n",
              "    .colab-df-container {\n",
              "      display:flex;\n",
              "      gap: 12px;\n",
              "    }\n",
              "\n",
              "    .colab-df-convert {\n",
              "      background-color: #E8F0FE;\n",
              "      border: none;\n",
              "      border-radius: 50%;\n",
              "      cursor: pointer;\n",
              "      display: none;\n",
              "      fill: #1967D2;\n",
              "      height: 32px;\n",
              "      padding: 0 0 0 0;\n",
              "      width: 32px;\n",
              "    }\n",
              "\n",
              "    .colab-df-convert:hover {\n",
              "      background-color: #E2EBFA;\n",
              "      box-shadow: 0px 1px 2px rgba(60, 64, 67, 0.3), 0px 1px 3px 1px rgba(60, 64, 67, 0.15);\n",
              "      fill: #174EA6;\n",
              "    }\n",
              "\n",
              "    .colab-df-buttons div {\n",
              "      margin-bottom: 4px;\n",
              "    }\n",
              "\n",
              "    [theme=dark] .colab-df-convert {\n",
              "      background-color: #3B4455;\n",
              "      fill: #D2E3FC;\n",
              "    }\n",
              "\n",
              "    [theme=dark] .colab-df-convert:hover {\n",
              "      background-color: #434B5C;\n",
              "      box-shadow: 0px 1px 3px 1px rgba(0, 0, 0, 0.15);\n",
              "      filter: drop-shadow(0px 1px 2px rgba(0, 0, 0, 0.3));\n",
              "      fill: #FFFFFF;\n",
              "    }\n",
              "  </style>\n",
              "\n",
              "    <script>\n",
              "      const buttonEl =\n",
              "        document.querySelector('#df-19f0cab2-d09b-4e86-8b32-40e4e837a5da button.colab-df-convert');\n",
              "      buttonEl.style.display =\n",
              "        google.colab.kernel.accessAllowed ? 'block' : 'none';\n",
              "\n",
              "      async function convertToInteractive(key) {\n",
              "        const element = document.querySelector('#df-19f0cab2-d09b-4e86-8b32-40e4e837a5da');\n",
              "        const dataTable =\n",
              "          await google.colab.kernel.invokeFunction('convertToInteractive',\n",
              "                                                    [key], {});\n",
              "        if (!dataTable) return;\n",
              "\n",
              "        const docLinkHtml = 'Like what you see? Visit the ' +\n",
              "          '<a target=\"_blank\" href=https://colab.research.google.com/notebooks/data_table.ipynb>data table notebook</a>'\n",
              "          + ' to learn more about interactive tables.';\n",
              "        element.innerHTML = '';\n",
              "        dataTable['output_type'] = 'display_data';\n",
              "        await google.colab.output.renderOutput(dataTable, element);\n",
              "        const docLink = document.createElement('div');\n",
              "        docLink.innerHTML = docLinkHtml;\n",
              "        element.appendChild(docLink);\n",
              "      }\n",
              "    </script>\n",
              "  </div>\n",
              "\n",
              "\n",
              "<div id=\"df-9aac12ae-5a7b-4d10-9561-f1d4ec4ad225\">\n",
              "  <button class=\"colab-df-quickchart\" onclick=\"quickchart('df-9aac12ae-5a7b-4d10-9561-f1d4ec4ad225')\"\n",
              "            title=\"Suggest charts\"\n",
              "            style=\"display:none;\">\n",
              "\n",
              "<svg xmlns=\"http://www.w3.org/2000/svg\" height=\"24px\"viewBox=\"0 0 24 24\"\n",
              "     width=\"24px\">\n",
              "    <g>\n",
              "        <path d=\"M19 3H5c-1.1 0-2 .9-2 2v14c0 1.1.9 2 2 2h14c1.1 0 2-.9 2-2V5c0-1.1-.9-2-2-2zM9 17H7v-7h2v7zm4 0h-2V7h2v10zm4 0h-2v-4h2v4z\"/>\n",
              "    </g>\n",
              "</svg>\n",
              "  </button>\n",
              "\n",
              "<style>\n",
              "  .colab-df-quickchart {\n",
              "      --bg-color: #E8F0FE;\n",
              "      --fill-color: #1967D2;\n",
              "      --hover-bg-color: #E2EBFA;\n",
              "      --hover-fill-color: #174EA6;\n",
              "      --disabled-fill-color: #AAA;\n",
              "      --disabled-bg-color: #DDD;\n",
              "  }\n",
              "\n",
              "  [theme=dark] .colab-df-quickchart {\n",
              "      --bg-color: #3B4455;\n",
              "      --fill-color: #D2E3FC;\n",
              "      --hover-bg-color: #434B5C;\n",
              "      --hover-fill-color: #FFFFFF;\n",
              "      --disabled-bg-color: #3B4455;\n",
              "      --disabled-fill-color: #666;\n",
              "  }\n",
              "\n",
              "  .colab-df-quickchart {\n",
              "    background-color: var(--bg-color);\n",
              "    border: none;\n",
              "    border-radius: 50%;\n",
              "    cursor: pointer;\n",
              "    display: none;\n",
              "    fill: var(--fill-color);\n",
              "    height: 32px;\n",
              "    padding: 0;\n",
              "    width: 32px;\n",
              "  }\n",
              "\n",
              "  .colab-df-quickchart:hover {\n",
              "    background-color: var(--hover-bg-color);\n",
              "    box-shadow: 0 1px 2px rgba(60, 64, 67, 0.3), 0 1px 3px 1px rgba(60, 64, 67, 0.15);\n",
              "    fill: var(--button-hover-fill-color);\n",
              "  }\n",
              "\n",
              "  .colab-df-quickchart-complete:disabled,\n",
              "  .colab-df-quickchart-complete:disabled:hover {\n",
              "    background-color: var(--disabled-bg-color);\n",
              "    fill: var(--disabled-fill-color);\n",
              "    box-shadow: none;\n",
              "  }\n",
              "\n",
              "  .colab-df-spinner {\n",
              "    border: 2px solid var(--fill-color);\n",
              "    border-color: transparent;\n",
              "    border-bottom-color: var(--fill-color);\n",
              "    animation:\n",
              "      spin 1s steps(1) infinite;\n",
              "  }\n",
              "\n",
              "  @keyframes spin {\n",
              "    0% {\n",
              "      border-color: transparent;\n",
              "      border-bottom-color: var(--fill-color);\n",
              "      border-left-color: var(--fill-color);\n",
              "    }\n",
              "    20% {\n",
              "      border-color: transparent;\n",
              "      border-left-color: var(--fill-color);\n",
              "      border-top-color: var(--fill-color);\n",
              "    }\n",
              "    30% {\n",
              "      border-color: transparent;\n",
              "      border-left-color: var(--fill-color);\n",
              "      border-top-color: var(--fill-color);\n",
              "      border-right-color: var(--fill-color);\n",
              "    }\n",
              "    40% {\n",
              "      border-color: transparent;\n",
              "      border-right-color: var(--fill-color);\n",
              "      border-top-color: var(--fill-color);\n",
              "    }\n",
              "    60% {\n",
              "      border-color: transparent;\n",
              "      border-right-color: var(--fill-color);\n",
              "    }\n",
              "    80% {\n",
              "      border-color: transparent;\n",
              "      border-right-color: var(--fill-color);\n",
              "      border-bottom-color: var(--fill-color);\n",
              "    }\n",
              "    90% {\n",
              "      border-color: transparent;\n",
              "      border-bottom-color: var(--fill-color);\n",
              "    }\n",
              "  }\n",
              "</style>\n",
              "\n",
              "  <script>\n",
              "    async function quickchart(key) {\n",
              "      const quickchartButtonEl =\n",
              "        document.querySelector('#' + key + ' button');\n",
              "      quickchartButtonEl.disabled = true;  // To prevent multiple clicks.\n",
              "      quickchartButtonEl.classList.add('colab-df-spinner');\n",
              "      try {\n",
              "        const charts = await google.colab.kernel.invokeFunction(\n",
              "            'suggestCharts', [key], {});\n",
              "      } catch (error) {\n",
              "        console.error('Error during call to suggestCharts:', error);\n",
              "      }\n",
              "      quickchartButtonEl.classList.remove('colab-df-spinner');\n",
              "      quickchartButtonEl.classList.add('colab-df-quickchart-complete');\n",
              "    }\n",
              "    (() => {\n",
              "      let quickchartButtonEl =\n",
              "        document.querySelector('#df-9aac12ae-5a7b-4d10-9561-f1d4ec4ad225 button');\n",
              "      quickchartButtonEl.style.display =\n",
              "        google.colab.kernel.accessAllowed ? 'block' : 'none';\n",
              "    })();\n",
              "  </script>\n",
              "</div>\n",
              "\n",
              "    </div>\n",
              "  </div>\n"
            ],
            "application/vnd.google.colaboratory.intrinsic+json": {
              "type": "dataframe",
              "summary": "{\n  \"name\": \"df_score\",\n  \"rows\": 8,\n  \"fields\": [\n    {\n      \"column\": \"id\",\n      \"properties\": {\n        \"dtype\": \"number\",\n        \"std\": 339512830.0563034,\n        \"min\": 10127.0,\n        \"max\": 828343083.0,\n        \"num_unique_values\": 8,\n        \"samples\": [\n          739177606.3336625,\n          717926358.0,\n          10127.0\n        ],\n        \"semantic_type\": \"\",\n        \"description\": \"\"\n      }\n    },\n    {\n      \"column\": \"idade\",\n      \"properties\": {\n        \"dtype\": \"number\",\n        \"std\": 3565.7198708729024,\n        \"min\": 8.016814032549037,\n        \"max\": 10127.0,\n        \"num_unique_values\": 8,\n        \"samples\": [\n          46.32596030413745,\n          46.0,\n          10127.0\n        ],\n        \"semantic_type\": \"\",\n        \"description\": \"\"\n      }\n    },\n    {\n      \"column\": \"Qte_dependentes\",\n      \"properties\": {\n        \"dtype\": \"number\",\n        \"std\": 3579.827627559787,\n        \"min\": 0.0,\n        \"max\": 10127.0,\n        \"num_unique_values\": 7,\n        \"samples\": [\n          10127.0,\n          1.547447417794016,\n          3.0\n        ],\n        \"semantic_type\": \"\",\n        \"description\": \"\"\n      }\n    },\n    {\n      \"column\": \"tempo_ultimoservico\",\n      \"properties\": {\n        \"dtype\": \"number\",\n        \"std\": 3569.8981232538094,\n        \"min\": 7.0,\n        \"max\": 10127.0,\n        \"num_unique_values\": 8,\n        \"samples\": [\n          34.133208255159474,\n          34.0,\n          10127.0\n        ],\n        \"semantic_type\": \"\",\n        \"description\": \"\"\n      }\n    },\n    {\n      \"column\": \"trabalha\",\n      \"properties\": {\n        \"dtype\": \"number\",\n        \"std\": 3580.1728030159743,\n        \"min\": 0.0,\n        \"max\": 10127.0,\n        \"num_unique_values\": 5,\n        \"samples\": [\n          0.911918633356374,\n          1.0,\n          0.2834271896802809\n        ],\n        \"semantic_type\": \"\",\n        \"description\": \"\"\n      }\n    },\n    {\n      \"column\": \"reg_moradia\",\n      \"properties\": {\n        \"dtype\": \"number\",\n        \"std\": 3579.20500134007,\n        \"min\": 1.0,\n        \"max\": 10127.0,\n        \"num_unique_values\": 8,\n        \"samples\": [\n          3.7834501826799642,\n          4.0,\n          10127.0\n        ],\n        \"semantic_type\": \"\",\n        \"description\": \"\"\n      }\n    },\n    {\n      \"column\": \"casa_propria\",\n      \"properties\": {\n        \"dtype\": \"number\",\n        \"std\": 3580.2922653178366,\n        \"min\": 0.0,\n        \"max\": 10127.0,\n        \"num_unique_values\": 5,\n        \"samples\": [\n          0.35242421250123435,\n          1.0,\n          0.4777488096290879\n        ],\n        \"semantic_type\": \"\",\n        \"description\": \"\"\n      }\n    },\n    {\n      \"column\": \"vl_imovel_em_mil\",\n      \"properties\": {\n        \"dtype\": \"number\",\n        \"std\": 3496.435038533288,\n        \"min\": 0.0,\n        \"max\": 10127.0,\n        \"num_unique_values\": 6,\n        \"samples\": [\n          10127.0,\n          208.99911128665943,\n          1800.0\n        ],\n        \"semantic_type\": \"\",\n        \"description\": \"\"\n      }\n    },\n    {\n      \"column\": \"Qte_cartoes\",\n      \"properties\": {\n        \"dtype\": \"number\",\n        \"std\": 3579.9597067927803,\n        \"min\": 0.333784490443548,\n        \"max\": 10127.0,\n        \"num_unique_values\": 5,\n        \"samples\": [\n          1.0836377999407525,\n          4.0,\n          0.333784490443548\n        ],\n        \"semantic_type\": \"\",\n        \"description\": \"\"\n      }\n    },\n    {\n      \"column\": \"Qte_carros\",\n      \"properties\": {\n        \"dtype\": \"number\",\n        \"std\": 3580.1729484584775,\n        \"min\": 0.0,\n        \"max\": 10127.0,\n        \"num_unique_values\": 6,\n        \"samples\": [\n          10127.0,\n          0.6233830354497877,\n          2.0\n        ],\n        \"semantic_type\": \"\",\n        \"description\": \"\"\n      }\n    }\n  ]\n}"
            }
          },
          "metadata": {},
          "execution_count": 8
        }
      ]
    },
    {
      "cell_type": "code",
      "source": [],
      "metadata": {
        "id": "YHu7Pj-AS_S8"
      },
      "execution_count": null,
      "outputs": []
    }
  ],
  "metadata": {
    "kernelspec": {
      "display_name": "venv",
      "language": "python",
      "name": "python3"
    },
    "language_info": {
      "codemirror_mode": {
        "name": "ipython",
        "version": 3
      },
      "file_extension": ".py",
      "mimetype": "text/x-python",
      "name": "python",
      "nbconvert_exporter": "python",
      "pygments_lexer": "ipython3",
      "version": "3.12.4"
    },
    "colab": {
      "provenance": [],
      "include_colab_link": true
    }
  },
  "nbformat": 4,
  "nbformat_minor": 0
}